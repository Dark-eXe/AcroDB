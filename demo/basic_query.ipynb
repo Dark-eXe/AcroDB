{
 "cells": [
  {
   "cell_type": "markdown",
   "id": "dd99fa44-a7c6-4802-92ac-29ea1e3a0015",
   "metadata": {},
   "source": [
    "# Basic Query (no chat)"
   ]
  },
  {
   "cell_type": "code",
   "execution_count": 1,
   "id": "eaf19fe1-76f8-43be-b552-a54d329286ad",
   "metadata": {},
   "outputs": [],
   "source": [
    "import os\n",
    "import sys\n",
    "module_path = os.path.abspath(os.path.join('..'))\n",
    "if module_path not in sys.path:\n",
    "    sys.path.append(module_path)"
   ]
  },
  {
   "cell_type": "code",
   "execution_count": 2,
   "id": "8bc855b3-f83a-463f-86a3-d0075ae5a4a9",
   "metadata": {},
   "outputs": [],
   "source": [
    "from src import AcroDB"
   ]
  },
  {
   "cell_type": "markdown",
   "id": "89984474-7fd6-4b50-b36c-19c5b7cee5e2",
   "metadata": {},
   "source": [
    "## AcroDB setup"
   ]
  },
  {
   "cell_type": "code",
   "execution_count": 3,
   "id": "e913353e-fd22-4e5b-8099-40ca2484f411",
   "metadata": {},
   "outputs": [],
   "source": [
    "table_name, bucket_name = \"MAG_Code-of-Points\", \"dsci551-acrobucket\""
   ]
  },
  {
   "cell_type": "code",
   "execution_count": 4,
   "id": "56e0ff64-c577-4c32-875d-82bb1c9c7afe",
   "metadata": {},
   "outputs": [],
   "source": [
    "my_acro = AcroDB(table_name=table_name, bucket_name=bucket_name)"
   ]
  },
  {
   "cell_type": "markdown",
   "id": "13f89633-a786-4cd8-bdbf-962dea197a3e",
   "metadata": {},
   "source": [
    "## Limit"
   ]
  },
  {
   "cell_type": "markdown",
   "id": "b07c7846-94d8-4773-bf5a-2c61abbc666a",
   "metadata": {},
   "source": [
    "(integer) – The maximum number of items to evaluate (not necessarily the number of matching items)."
   ]
  },
  {
   "cell_type": "code",
   "execution_count": 5,
   "id": "15a1dad3-ec4e-46f8-9e62-5878ffbd1c86",
   "metadata": {},
   "outputs": [
    {
     "data": {
      "text/plain": [
       "{'Items': [{'value': {'N': '0.2'},\n",
       "   'event': {'S': 'MAG Pommel Horse'},\n",
       "   'mvtId': {'S': '99'},\n",
       "   'image_s3_url': {'NULL': True},\n",
       "   'group': {'S': 'Single leg swings and scissors'},\n",
       "   'difficulty': {'S': 'B'},\n",
       "   'name': {'S': 'Scissor forward with travel sideways (also with 1/2 t.)'}}],\n",
       " 'Count': 1,\n",
       " 'ScannedCount': 1,\n",
       " 'LastEvaluatedKey': {'mvtId': {'S': '99'}},\n",
       " 'ResponseMetadata': {'RequestId': 'IUMRR042F4LMF0HU47O91EURV7VV4KQNSO5AEMVJF66Q9ASUAAJG',\n",
       "  'HTTPStatusCode': 200,\n",
       "  'HTTPHeaders': {'server': 'Server',\n",
       "   'date': 'Fri, 07 Mar 2025 04:58:14 GMT',\n",
       "   'content-type': 'application/x-amz-json-1.0',\n",
       "   'content-length': '322',\n",
       "   'connection': 'keep-alive',\n",
       "   'x-amzn-requestid': 'IUMRR042F4LMF0HU47O91EURV7VV4KQNSO5AEMVJF66Q9ASUAAJG',\n",
       "   'x-amz-crc32': '785665237'},\n",
       "  'RetryAttempts': 0}}"
      ]
     },
     "execution_count": 5,
     "metadata": {},
     "output_type": "execute_result"
    }
   ],
   "source": [
    "my_acro.query(Limit=1)"
   ]
  },
  {
   "cell_type": "markdown",
   "id": "18560d62-16bd-4688-babc-4325e70c51b1",
   "metadata": {},
   "source": [
    "## Select"
   ]
  },
  {
   "cell_type": "markdown",
   "id": "4579c40a-54ad-47b7-b63c-88b2f7a490fa",
   "metadata": {},
   "source": [
    "(string) –\n",
    "\n",
    "The attributes to be returned in the result. You can retrieve all item attributes, specific item attributes, the count of matching items, or in the case of an index, some or all of the attributes projected into the index.\n",
    "\n",
    "- ALL_ATTRIBUTES - Returns all of the item attributes from the specified table or index. If you query a local secondary index, then for each matching item in the index, DynamoDB fetches the entire item from the parent table. If the index is configured to project all item attributes, then all of the data can be obtained from the local secondary index, and no fetching is required.\n",
    "\n",
    "- ALL_PROJECTED_ATTRIBUTES - Allowed only when querying an index. Retrieves all attributes that have been projected into the index. If the index is configured to project all attributes, this return value is equivalent to specifying ALL_ATTRIBUTES.\n",
    "\n",
    "- COUNT - Returns the number of matching items, rather than the matching items themselves. Note that this uses the same quantity of read capacity units as getting the items, and is subject to the same item size calculations.\n",
    "\n",
    "- SPECIFIC_ATTRIBUTES - Returns only the attributes listed in ProjectionExpression. This return value is equivalent to specifying ProjectionExpression without specifying any value for Select. If you query or scan a local secondary index and request only attributes that are projected into that index, the operation reads only the index and not the table. If any of the requested attributes are not projected into the local secondary index, DynamoDB fetches each of these attributes from the parent table. This extra fetching incurs additional throughput cost and latency. If you query or scan a global secondary index, you can only request attributes that are projected into the index. Global secondary index queries cannot fetch attributes from the parent table.\n",
    "\n",
    "If neither Select nor ProjectionExpression are specified, DynamoDB defaults to ALL_ATTRIBUTES when accessing a table, and ALL_PROJECTED_ATTRIBUTES when accessing an index. You cannot use both Select and ProjectionExpression together in a single request, unless the value for Select is SPECIFIC_ATTRIBUTES. (This usage is equivalent to specifying ProjectionExpression without any value for Select.)"
   ]
  },
  {
   "cell_type": "code",
   "execution_count": 6,
   "id": "892c25b5-30ee-4b3b-9f66-6c02fe232523",
   "metadata": {},
   "outputs": [
    {
     "data": {
      "text/plain": [
       "{'Items': [{'value': {'N': '0.2'},\n",
       "   'event': {'S': 'MAG Pommel Horse'},\n",
       "   'mvtId': {'S': '99'},\n",
       "   'image_s3_url': {'NULL': True},\n",
       "   'group': {'S': 'Single leg swings and scissors'},\n",
       "   'difficulty': {'S': 'B'},\n",
       "   'name': {'S': 'Scissor forward with travel sideways (also with 1/2 t.)'}}],\n",
       " 'Count': 1,\n",
       " 'ScannedCount': 1,\n",
       " 'LastEvaluatedKey': {'mvtId': {'S': '99'}},\n",
       " 'ResponseMetadata': {'RequestId': '9T6ADT2ALS1MIRB9FT1JEJNC2FVV4KQNSO5AEMVJF66Q9ASUAAJG',\n",
       "  'HTTPStatusCode': 200,\n",
       "  'HTTPHeaders': {'server': 'Server',\n",
       "   'date': 'Fri, 07 Mar 2025 04:58:14 GMT',\n",
       "   'content-type': 'application/x-amz-json-1.0',\n",
       "   'content-length': '322',\n",
       "   'connection': 'keep-alive',\n",
       "   'x-amzn-requestid': '9T6ADT2ALS1MIRB9FT1JEJNC2FVV4KQNSO5AEMVJF66Q9ASUAAJG',\n",
       "   'x-amz-crc32': '785665237'},\n",
       "  'RetryAttempts': 0}}"
      ]
     },
     "execution_count": 6,
     "metadata": {},
     "output_type": "execute_result"
    }
   ],
   "source": [
    "my_acro.query(Limit=1, Select=\"ALL_ATTRIBUTES\")"
   ]
  },
  {
   "cell_type": "markdown",
   "id": "321750e4-c9c2-43de-ba1f-9361e0b71cbd",
   "metadata": {},
   "source": [
    "## ProjectionExpression"
   ]
  },
  {
   "cell_type": "markdown",
   "id": "89545f03-16e5-42c5-a3cf-ff58134db7ed",
   "metadata": {},
   "source": [
    "(string) –\n",
    "\n",
    "A string that identifies one or more attributes to retrieve from the specified table or index. These attributes can include scalars, sets, or elements of a JSON document. The attributes in the expression must be separated by commas.\n",
    "\n",
    "If no attribute names are specified, then all attributes will be returned. If any of the requested attributes are not found, they will not appear in the result."
   ]
  },
  {
   "cell_type": "code",
   "execution_count": null,
   "id": "d4be53f6-f3ef-4fe9-a950-296446f4ba5d",
   "metadata": {},
   "outputs": [],
   "source": []
  }
 ],
 "metadata": {
  "kernelspec": {
   "display_name": "Python 3 (ipykernel)",
   "language": "python",
   "name": "python3"
  },
  "language_info": {
   "codemirror_mode": {
    "name": "ipython",
    "version": 3
   },
   "file_extension": ".py",
   "mimetype": "text/x-python",
   "name": "python",
   "nbconvert_exporter": "python",
   "pygments_lexer": "ipython3",
   "version": "3.11.4"
  }
 },
 "nbformat": 4,
 "nbformat_minor": 5
}
