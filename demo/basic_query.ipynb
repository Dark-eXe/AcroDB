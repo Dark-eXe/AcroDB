{
 "cells": [
  {
   "cell_type": "markdown",
   "id": "dd99fa44-a7c6-4802-92ac-29ea1e3a0015",
   "metadata": {},
   "source": [
    "# Basic Query (no chat)"
   ]
  },
  {
   "cell_type": "code",
   "execution_count": 2,
   "id": "eaf19fe1-76f8-43be-b552-a54d329286ad",
   "metadata": {},
   "outputs": [],
   "source": [
    "import os\n",
    "import sys\n",
    "module_path = os.path.abspath(os.path.join('..'))\n",
    "if module_path not in sys.path:\n",
    "    sys.path.append(module_path)"
   ]
  },
  {
   "cell_type": "code",
   "execution_count": 2,
   "id": "8bc855b3-f83a-463f-86a3-d0075ae5a4a9",
   "metadata": {},
   "outputs": [],
   "source": [
    "from src import AcroDB"
   ]
  },
  {
   "cell_type": "markdown",
   "id": "13f89633-a786-4cd8-bdbf-962dea197a3e",
   "metadata": {},
   "source": [
    "## Limit"
   ]
  },
  {
   "cell_type": "code",
   "execution_count": 3,
   "id": "e913353e-fd22-4e5b-8099-40ca2484f411",
   "metadata": {},
   "outputs": [],
   "source": [
    "table_name, bucket_name = \"MAG_Code-of-Points\", \"dsci551-acrobucket\""
   ]
  },
  {
   "cell_type": "code",
   "execution_count": 4,
   "id": "56e0ff64-c577-4c32-875d-82bb1c9c7afe",
   "metadata": {},
   "outputs": [],
   "source": [
    "my_acro = AcroDB(table_name=table_name, bucket_name=bucket_name)"
   ]
  },
  {
   "cell_type": "code",
   "execution_count": 6,
   "id": "15a1dad3-ec4e-46f8-9e62-5878ffbd1c86",
   "metadata": {},
   "outputs": [
    {
     "data": {
      "text/plain": [
       "{'Items': [{'value': {'N': '0.2'},\n",
       "   'event': {'S': 'MAG Pommel Horse'},\n",
       "   'mvtId': {'S': '99'},\n",
       "   'image_s3_url': {'NULL': True},\n",
       "   'group': {'S': 'Single leg swings and scissors'},\n",
       "   'difficulty': {'S': 'B'},\n",
       "   'name': {'S': 'Scissor forward with travel sideways (also with 1/2 t.)'}}],\n",
       " 'Count': 1,\n",
       " 'ScannedCount': 1,\n",
       " 'LastEvaluatedKey': {'mvtId': {'S': '99'}},\n",
       " 'ResponseMetadata': {'RequestId': 'B8P2GNHTQI3APUCQ4M4FJDM6KVVV4KQNSO5AEMVJF66Q9ASUAAJG',\n",
       "  'HTTPStatusCode': 200,\n",
       "  'HTTPHeaders': {'server': 'Server',\n",
       "   'date': 'Fri, 07 Mar 2025 04:50:39 GMT',\n",
       "   'content-type': 'application/x-amz-json-1.0',\n",
       "   'content-length': '322',\n",
       "   'connection': 'keep-alive',\n",
       "   'x-amzn-requestid': 'B8P2GNHTQI3APUCQ4M4FJDM6KVVV4KQNSO5AEMVJF66Q9ASUAAJG',\n",
       "   'x-amz-crc32': '785665237'},\n",
       "  'RetryAttempts': 0}}"
      ]
     },
     "execution_count": 6,
     "metadata": {},
     "output_type": "execute_result"
    }
   ],
   "source": [
    "my_acro.query(Limit=1)"
   ]
  },
  {
   "cell_type": "markdown",
   "id": "18560d62-16bd-4688-babc-4325e70c51b1",
   "metadata": {},
   "source": [
    "##"
   ]
  }
 ],
 "metadata": {
  "kernelspec": {
   "display_name": "Python 3 (ipykernel)",
   "language": "python",
   "name": "python3"
  },
  "language_info": {
   "codemirror_mode": {
    "name": "ipython",
    "version": 3
   },
   "file_extension": ".py",
   "mimetype": "text/x-python",
   "name": "python",
   "nbconvert_exporter": "python",
   "pygments_lexer": "ipython3",
   "version": "3.11.4"
  }
 },
 "nbformat": 4,
 "nbformat_minor": 5
}
