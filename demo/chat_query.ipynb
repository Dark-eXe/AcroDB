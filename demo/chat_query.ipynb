{
 "cells": [
  {
   "cell_type": "markdown",
   "id": "3e7b6f6a-5935-42f3-b6cb-38c730ee9b28",
   "metadata": {},
   "source": [
    "# Chat Query (command-line interface)"
   ]
  },
  {
   "cell_type": "code",
   "execution_count": 1,
   "id": "7b6cfee7-c6ec-473a-ba48-b78072919ff8",
   "metadata": {},
   "outputs": [],
   "source": [
    "import os\n",
    "import sys\n",
    "module_path = os.path.abspath(os.path.join('..'))\n",
    "if module_path not in sys.path:\n",
    "    sys.path.append(module_path)"
   ]
  },
  {
   "cell_type": "code",
   "execution_count": 2,
   "id": "5e4b960e-dc25-4ded-a2c5-af4e98d79c72",
   "metadata": {},
   "outputs": [],
   "source": [
    "from src.AcroDB.AcroDB import AcroDB\n",
    "from src.AcroDB.ChatDB import ChatDB"
   ]
  },
  {
   "cell_type": "markdown",
   "id": "635c5625-c2a9-4a87-bc37-15da2c60fc59",
   "metadata": {},
   "source": [
    "## AcroDB setup"
   ]
  },
  {
   "cell_type": "code",
   "execution_count": 3,
   "id": "569124d3",
   "metadata": {},
   "outputs": [],
   "source": [
    "table_name, bucket_name = \"MAG_Code-of-Points\", \"dsci551-acrobucket\"\n",
    "my_acro1 = AcroDB(table_name=table_name, bucket_name=bucket_name)"
   ]
  },
  {
   "cell_type": "code",
   "execution_count": 4,
   "id": "92773d2e",
   "metadata": {},
   "outputs": [],
   "source": [
    "table_name, bucket_name = \"Parkourpedia\", \"dsci551-acrobucket\"\n",
    "my_acro2 = AcroDB(table_name=table_name, bucket_name=bucket_name)"
   ]
  },
  {
   "cell_type": "markdown",
   "id": "85d4f942",
   "metadata": {},
   "source": [
    "## ChatDB setup"
   ]
  },
  {
   "cell_type": "code",
   "execution_count": 5,
   "id": "84affd22",
   "metadata": {},
   "outputs": [],
   "source": [
    "my_chat = ChatDB(acrodb_list=[my_acro1, my_acro2])"
   ]
  },
  {
   "cell_type": "markdown",
   "id": "de3b9021",
   "metadata": {},
   "source": [
    "OpenAI API Key: ```ChatDB.set_api_key(API_KEY)```"
   ]
  },
  {
   "cell_type": "code",
   "execution_count": 6,
   "id": "23aee384",
   "metadata": {},
   "outputs": [
    {
     "name": "stdout",
     "output_type": "stream",
     "text": [
      "OpenAI client setup successful!\n"
     ]
    }
   ],
   "source": [
    "if my_chat.set_api_key(API_KEY=open(\"secrets/API_KEY\" if os.path.basename(os.getcwd()) == \"AcroDB\" else \"../secrets/API_KEY\").read()):\n",
    "    print(\"OpenAI client setup successful!\")"
   ]
  },
  {
   "cell_type": "code",
   "execution_count": 7,
   "id": "a0fafdf5-e8a7-4dad-b525-a4cc9ef6cbf4",
   "metadata": {},
   "outputs": [
    {
     "name": "stdout",
     "output_type": "stream",
     "text": [
      "Prompt is set!\n"
     ]
    }
   ],
   "source": [
    "if my_chat.set_prompt(prompt_path=\"src/AcroDB/prompts/main.txt\" if os.path.basename(os.getcwd()) == \"AcroDB\" else \"../src/AcroDB/prompts/main.txt\"):\n",
    "    print(\"Prompt is set!\")"
   ]
  },
  {
   "cell_type": "markdown",
   "id": "9fe9e34c",
   "metadata": {},
   "source": [
    "## Command-Line Interface"
   ]
  },
  {
   "cell_type": "code",
   "execution_count": 8,
   "id": "55c41724",
   "metadata": {},
   "outputs": [
    {
     "name": "stdout",
     "output_type": "stream",
     "text": [
      "--- (q)uit to exit chat ---\n"
     ]
    },
    {
     "name": "stdin",
     "output_type": "stream",
     "text": [
      "Enter query:  what are some parkour flips?\n"
     ]
    },
    {
     "name": "stdout",
     "output_type": "stream",
     "text": [
      "[{'image_s3_url': 'Parkourpedia/Flip-1.mp4', 'mvtId': '1', 'event': 'Flip', 'description': 'The infamously famous back flip! Practitioner jumps, sets up and back, and rotates backwards aerially before landing!', 'difficulty': 'Advanced', 'name': 'Backflip'}, {'image_s3_url': None, 'mvtId': '2', 'event': 'Flip', 'difficulty': 'Advanced', 'description': 'A dynamic movement where the practitioner rotates sideways in the air, typically initiating with a run and a jump, and landing on their feet or hands, often used for traversing obstacles..', 'name': 'Sideflip'}, {'image_s3_url': 'https://www.instagram.com/reel/DGlIPihNu5I/?igsh=MWlrZGQybGZvcDN3bQ==', 'mvtId': '3', 'event': 'Flip', 'difficulty': 'Advanced', 'description': 'A forward-rolling acrobatic movement where the practitioner tucks their body and rotates forward, landing on their feet.\\xa0', 'name': 'Frontflip'}, {'mvtId': '4', 'event': 'Flip', 'description': 'Butterfly with aerial full twist before landing', 'difficulty': 'Advanced', 'name': 'B Twist'}, {'name': 'Double Backflip', 'mvtId': '6', 'event': 'Flip'}]\n",
      "\n",
      "--- (q)uit to exit chat ---\n"
     ]
    },
    {
     "name": "stdin",
     "output_type": "stream",
     "text": [
      "Enter query:  what are some easy mag floor skills, just their names please\n"
     ]
    },
    {
     "name": "stdout",
     "output_type": "stream",
     "text": [
      "[{'name': 'Front HS'}, {'name': 'Handstand (2 s.)'}, {'name': 'Planche, legs straddle (2 s.)'}, {'name': '½ or 1/1 turn in handstand or to handstand'}, {'name': 'From hdst. lower to L-sit or strad. L-sit (2 s.)'}, {'name': 'From L-sit, etc., turn over bwd. to stand'}, {'name': 'Forward walkover'}, {'name': 'Cross or side split (stop required)'}, {'name': 'Any standing scale (2 s.)'}, {'name': 'Jump bwd. to front support'}, {'name': 'Butterfly'}, {'name': '1 circle or flair'}, {'name': 'Flair with ½ spindle'}, {'name': 'Russian wendeswing with 360° or 540°'}, {'name': 'Roll bwd. through hdst. with ½ t'}, {'name': 'Dive roll'}, {'name': 'Salto fwd. tucked or piked, also with ½ t'}, {'name': 'From stand, Swiss press to hdst. (2 s.)'}, {'name': 'Salto backwards tucked or piked'}, {'name': 'Salto backwards tucked or piked w. ½ t. or Arabian tucked or piked'}, {'name': 'Back handspring'}, {'name': 'Jump bwd. with ½ t. to roll fwd'}, {'name': 'Rock to hdst. from prone position (2 s.)'}]\n",
      "\n",
      "--- (q)uit to exit chat ---\n"
     ]
    },
    {
     "name": "stdin",
     "output_type": "stream",
     "text": [
      "Enter query:  q\n"
     ]
    }
   ],
   "source": [
    "my_chat.loop()"
   ]
  }
 ],
 "metadata": {
  "kernelspec": {
   "display_name": "Python 3 (ipykernel)",
   "language": "python",
   "name": "python3"
  },
  "language_info": {
   "codemirror_mode": {
    "name": "ipython",
    "version": 3
   },
   "file_extension": ".py",
   "mimetype": "text/x-python",
   "name": "python",
   "nbconvert_exporter": "python",
   "pygments_lexer": "ipython3",
   "version": "3.11.4"
  }
 },
 "nbformat": 4,
 "nbformat_minor": 5
}
