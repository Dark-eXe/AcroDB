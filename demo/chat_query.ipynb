{
 "cells": [
  {
   "cell_type": "markdown",
   "id": "3e7b6f6a-5935-42f3-b6cb-38c730ee9b28",
   "metadata": {},
   "source": [
    "# Chat Query (command-line interface)"
   ]
  },
  {
   "cell_type": "code",
   "execution_count": 1,
   "id": "7b6cfee7-c6ec-473a-ba48-b78072919ff8",
   "metadata": {},
   "outputs": [],
   "source": [
    "import os\n",
    "import sys\n",
    "module_path = os.path.abspath(os.path.join('..'))\n",
    "if module_path not in sys.path:\n",
    "    sys.path.append(module_path)"
   ]
  },
  {
   "cell_type": "code",
   "execution_count": 2,
   "id": "5e4b960e-dc25-4ded-a2c5-af4e98d79c72",
   "metadata": {},
   "outputs": [],
   "source": [
    "from src.AcroDB import AcroDB\n",
    "from src.ChatDB import ChatDB"
   ]
  },
  {
   "cell_type": "markdown",
   "id": "635c5625-c2a9-4a87-bc37-15da2c60fc59",
   "metadata": {},
   "source": [
    "## AcroDB setup"
   ]
  },
  {
   "cell_type": "code",
   "execution_count": 3,
   "id": "569124d3",
   "metadata": {},
   "outputs": [],
   "source": [
    "table_name, bucket_name = \"MAG_Code-of-Points\", \"dsci551-acrobucket\"\n",
    "my_acro1 = AcroDB(table_name=table_name, bucket_name=bucket_name)"
   ]
  },
  {
   "cell_type": "code",
   "execution_count": 4,
   "id": "92773d2e",
   "metadata": {},
   "outputs": [],
   "source": [
    "table_name, bucket_name = \"Parkourpedia\", \"dsci551-acrobucket\"\n",
    "my_acro2 = AcroDB(table_name=table_name, bucket_name=bucket_name)"
   ]
  },
  {
   "cell_type": "markdown",
   "id": "85d4f942",
   "metadata": {},
   "source": [
    "## ChatDB setup"
   ]
  },
  {
   "cell_type": "code",
   "execution_count": 5,
   "id": "84affd22",
   "metadata": {},
   "outputs": [],
   "source": [
    "my_chat = ChatDB(acrodb_list=[my_acro1, my_acro2])"
   ]
  },
  {
   "cell_type": "markdown",
   "id": "de3b9021",
   "metadata": {},
   "source": [
    "OpenAI API Key: ```ChatDB.set_api_key(API_KEY)```"
   ]
  },
  {
   "cell_type": "code",
   "execution_count": 6,
   "id": "23aee384",
   "metadata": {},
   "outputs": [
    {
     "name": "stdout",
     "output_type": "stream",
     "text": [
      "OpenAI client setup successful!\n"
     ]
    }
   ],
   "source": [
    "if my_chat.set_api_key(API_KEY=open(\"secrets/API_KEY\" if os.path.basename(os.getcwd()) == \"AcroDB\" else \"../secrets/API_KEY\").read()):\n",
    "    print(\"OpenAI client setup successful!\")"
   ]
  },
  {
   "cell_type": "markdown",
   "id": "9fe9e34c",
   "metadata": {},
   "source": [
    "## Command-Line Interface"
   ]
  },
  {
   "cell_type": "code",
   "execution_count": 7,
   "id": "55c41724",
   "metadata": {},
   "outputs": [
    {
     "name": "stdout",
     "output_type": "stream",
     "text": [
      "--- (q)uit to exit chat ---\n"
     ]
    },
    {
     "name": "stdin",
     "output_type": "stream",
     "text": [
      "Enter query:  What are names of some parkour flips?\n"
     ]
    },
    {
     "name": "stdout",
     "output_type": "stream",
     "text": [
      "{'name': 'Sideflip'}\n",
      "{'name': 'Frontflip'}\n",
      "{'name': 'Backflip'}\n",
      "\n",
      "--- (q)uit to exit chat ---\n"
     ]
    },
    {
     "name": "stdin",
     "output_type": "stream",
     "text": [
      "Enter query:  How about wall tricks?\n"
     ]
    },
    {
     "name": "stdout",
     "output_type": "stream",
     "text": [
      "{'mvtId': '8', 'image_s3_url': None, 'group': 'Wall', 'difficulty': 'Beginner', 'description': 'The\\xa0Cat Leap\\xa0(also known as the arm leap or arm jump) is a technique used in\\xa0Parkour\\xa0and\\xa0Freerunning\\xa0to land on a vertical object, such as a ledge, a wall, or a fence.', 'name': 'Cat'}\n",
      "{'mvtId': '9', 'image_s3_url': None, 'group': 'Wall', 'difficulty': 'Advanced', 'description': 'Flip off wall.', 'name': 'Wall Flip'}\n",
      "\n",
      "--- (q)uit to exit chat ---\n"
     ]
    },
    {
     "name": "stdin",
     "output_type": "stream",
     "text": [
      "Enter query:  Just the names of wall tricks?\n"
     ]
    },
    {
     "name": "stdout",
     "output_type": "stream",
     "text": [
      "{'name': 'Cat'}\n",
      "{'name': 'Wall Flip'}\n",
      "\n",
      "--- (q)uit to exit chat ---\n"
     ]
    },
    {
     "name": "stdin",
     "output_type": "stream",
     "text": [
      "Enter query:  About the name and difficulty of the easiest floor skills in men's gymnastics?\n"
     ]
    },
    {
     "name": "stdout",
     "output_type": "stream",
     "text": [
      "{'difficulty': 'A', 'name': 'Salto backwards tucked or piked w. ½ t. or Arabian tucked or piked'}\n",
      "{'difficulty': 'A', 'name': 'Salto fwd. tucked or piked, also with ½ t'}\n",
      "{'difficulty': 'A', 'name': 'From hdst. lower to L-sit or strad. L-sit (2 s.)'}\n",
      "{'difficulty': 'A', 'name': 'Dive roll'}\n",
      "{'difficulty': 'A', 'name': 'Rock to hdst. from prone position (2 s.)'}\n",
      "{'difficulty': 'A', 'name': 'Forward handspring or flyspring.'}\n",
      "{'difficulty': 'A', 'name': 'Jump bwd. with ½ t. to roll fwd'}\n",
      "{'difficulty': 'A', 'name': 'Cross or side split (stop required)'}\n",
      "{'difficulty': 'A', 'name': 'Jump bwd. to front support'}\n",
      "{'difficulty': 'A', 'name': 'From stand, Swiss press to hdst. (2 s.)'}\n",
      "{'difficulty': 'A', 'name': '1 circle or flair'}\n",
      "{'difficulty': 'A', 'name': 'Forward walkover'}\n",
      "{'difficulty': 'A', 'name': 'Salto backwards tucked or piked'}\n",
      "{'difficulty': 'A', 'name': 'Back handspring'}\n",
      "{'difficulty': 'A', 'name': 'From L-sit, etc., turn over bwd. to stand'}\n",
      "{'difficulty': 'A', 'name': 'Roll bwd. through hdst. with ½ t'}\n",
      "{'difficulty': 'A', 'name': 'Flair with ½ spindle'}\n",
      "{'difficulty': 'A', 'name': 'Butterfly'}\n",
      "{'difficulty': 'A', 'name': 'Any standing scale (2 s.)'}\n",
      "{'difficulty': 'A', 'name': 'Handstand (2 s.)'}\n",
      "{'difficulty': 'A', 'name': '½ or 1/1 turn in handstand or to handstand'}\n",
      "{'difficulty': 'A', 'name': 'Planche, legs straddle (2 s.)'}\n",
      "{'difficulty': 'A', 'name': 'Russian wendeswing with 360° or 540°'}\n",
      "\n",
      "--- (q)uit to exit chat ---\n"
     ]
    },
    {
     "name": "stdin",
     "output_type": "stream",
     "text": [
      "Enter query:  How about difficult skills in pommel horse? Just name and difficulty please.\n"
     ]
    },
    {
     "name": "stdout",
     "output_type": "stream",
     "text": [
      "{'difficulty': 'E', 'name': 'Reverse Stöckli with 360° t. on 1 pommel'}\n",
      "{'difficulty': 'D', 'name': 'Any travel fwd. 3/3 with ½ Spindle from one pommel over the other pommel'}\n",
      "{'difficulty': 'C', 'name': 'Double scissor fwd. (¼ t. fwd.  a. ¼ t. bwd.) with travel sideways'}\n",
      "{'difficulty': 'E', 'name': 'From an end side travel with 2x ½ spindle to other end'}\n",
      "{'difficulty': 'E', 'name': 'Any 3/3 travel in Russian type wendeswing with 720° or more turning w. two hands between pommels'}\n",
      "{'difficulty': 'C', 'name': 'Travel fwd. in cross support with support on leather, pommel, pommel, leather (3/3) (1-2-4-5)'}\n",
      "{'difficulty': 'E', 'name': 'Travel forward in cross support over both pommels (also with hop)'}\n",
      "{'difficulty': 'D', 'name': '720° or 900° Russian wendeswing on 1 pommel or between the pommels'}\n",
      "{'difficulty': 'D', 'name': 'Doublescissorforward sidewaysfrom one end to the other (3/3)'}\n",
      "{'difficulty': 'D', 'name': 'Reverse Stöckli from crosssupport on one end to the other'}\n",
      "{'difficulty': 'E', 'name': 'Any 3/3 travel in flairs with 1/1 Spindle inside 2 circles'}\n",
      "{'difficulty': 'C', 'name': 'Flair or circle through handstand (with or without ½ t.) and lower to flair or circle'}\n",
      "{'difficulty': 'E', 'name': 'Travel 3/3 over both pommels with½ Spindle'}\n",
      "{'difficulty': 'C', 'name': 'Scissor bwd. with hop sideways from one end to the other (1-2 to 4-5)'}\n",
      "{'difficulty': 'C', 'name': 'Circle or flair with hop travel bwd. through handstand'}\n",
      "{'difficulty': 'C', 'name': 'Kehr with 270° t. on 1 pommel (Sohn technique) from side to cross support'}\n",
      "{'difficulty': 'D', 'name': 'Kehre fwd., reverse Stöckli, kehre fwd'}\n",
      "{'difficulty': 'F', 'name': 'Reverse Stöckli, DSA or pommel circle straddle through handstand, 3/3 travel (fwd.- bwd), 360° turn to flairs'}\n",
      "{'difficulty': 'D', 'name': 'Any Russian wendeswing with 360°t. and 3/3 travel'}\n",
      "{'difficulty': 'C', 'name': 'Russian wendeswing with 360° or 540° on 1 pommel or between the pommels'}\n",
      "{'difficulty': 'C', 'name': 'Double Scissor fwd. with travel sideways through handstand'}\n",
      "{'difficulty': 'D', 'name': 'Czechkehre outside pommels'}\n",
      "{'difficulty': 'D', 'name': 'From side support on end, circle or flair to handstand and travel 3/3 with 450° or more turn'}\n",
      "{'difficulty': 'D', 'name': 'Kehr with 1/1 turn on 1 pommel'}\n",
      "{'difficulty': 'C', 'name': 'Swing bwd. w. ¼ t. through handstand on 1 pommel (also with ¼ t. after), lower to support with straddle legs (with legs changing)'}\n",
      "{'difficulty': 'D', 'name': 'Scissor fwd. with ¼ t. through handstand on 1 pommel, lower to support with straddle legs on the other arm (with legs changing)'}\n",
      "{'difficulty': 'E', 'name': 'Travel backward in cross support over both pommels (also with hop)'}\n",
      "{'difficulty': 'D', 'name': 'Any other travel fwd. in cross support to other end (3/3)'}\n",
      "{'difficulty': 'C', 'name': 'Reverse Stöckli with 270°t. (Bezugo technique) from 2 pommels to cross support on 1 pommel'}\n",
      "{'difficulty': 'D', 'name': 'Flair with hop travel bwd. through handstand and lower to circles or flairs'}\n",
      "{'difficulty': 'E', 'name': '1/1 spindle w. legs straddle or together on the pommels inside max. 2 circles'}\n",
      "{'difficulty': 'C', 'name': 'Circles with any hop travel 2x in side support (3/3)'}\n",
      "{'difficulty': 'C', 'name': 'On the leather, Russian wendeswing with 1080° or more'}\n",
      "{'difficulty': 'D', 'name': 'DSA with hop bwd. through handstand on other end'}\n",
      "{'difficulty': 'C', 'name': 'Scissor fwd. with hop sideways from one end to the other (3/3)'}\n",
      "{'difficulty': 'C', 'name': 'DSA, reverse Stöckli or circle on one pommel through handstand'}\n",
      "{'difficulty': 'C', 'name': 'Reverse Stöckli from cross support on end to the far pommel'}\n",
      "{'difficulty': 'E', 'name': '1080° Russian wendeswing or more on 1 pommel or between the pommels'}\n",
      "{'difficulty': 'E', 'name': 'DSA to handstand 3/3 with 450° or more turn'}\n",
      "{'difficulty': 'C', 'name': 'From support on 1 pommel, Russian wendeswing fwd. to other end withoutsupport on or between the pommels (side to side support, side to cross support)'}\n",
      "{'difficulty': 'D', 'name': 'Any other travel bwd. in cross support to other end (3/3)'}\n",
      "{'difficulty': 'E', 'name': 'On the leather, from cross support, Russian wendeswing with 360° or more over both pommels'}\n",
      "{'difficulty': 'D', 'name': '180° Russian from one end of the horse to the other end through handstand to dismount'}\n",
      "{'difficulty': 'E', 'name': 'From side support beside the pommel, travel hop over 2 pommels to support fwd on other end (1-1 to 5-5)'}\n",
      "{'difficulty': 'E', 'name': 'Any side support 1/1 spindle with hand support to the otherside and return (max. 2 flairs or circles'}\n",
      "{'difficulty': 'F', 'name': 'Any 1/1 spindlewith both pommels between the hands (flair or circle)'}\n",
      "{'difficulty': 'D', 'name': 'Any travel in side support (3/3) over both pommels (also with hop)'}\n",
      "{'difficulty': 'D', 'name': 'Kehre bwd., kehre fwd., kehre bwd.'}\n",
      "{'difficulty': 'C', 'name': 'Any travel in side support (3/3), hands between pommels'}\n",
      "{'difficulty': 'C', 'name': 'Travel bwd. in crosss up with support on leather, pommel, pommel, leather (3/3) (5-4-2-1)'}\n",
      "{'difficulty': 'D', 'name': 'Any 1/1 spindle withinmax. 2 circles on the end'}\n",
      "{'difficulty': 'D', 'name': 'From support 1-2, 3/3 travel in Russian type wendeswing with 630° or more turning'}\n",
      "{'difficulty': 'C', 'name': 'On the end, Russian wendeswing with 1080° or more'}\n",
      "{'difficulty': 'D', 'name': 'From pommels, circle with 1/4 turn to Russian wendeswing 270° on one pommel to handstand'}\n",
      "{'difficulty': 'C', 'name': 'Russian wendeswing with 1080° or more'}\n",
      "{'difficulty': 'C', 'name': 'All travels with ½ spindle in side support'}\n",
      "{'difficulty': 'D', 'name': 'From support on end, Russian wendeswing fwd. to other end without support on or between the pommels (side to side,side to cross, crossto side, cross to cross)'}\n",
      "{'difficulty': 'D', 'name': 'Any side support pommel between hands 1/1 spindle w. legs straddle inside max. 2 circles'}\n",
      "{'difficulty': 'F', 'name': 'Cross support, 1/1 spindle with hands between the pommels max. 2 circles'}\n",
      "{'difficulty': 'D', 'name': 'Direct Stöckli A (DSA) outside pommels'}\n",
      "\n",
      "--- (q)uit to exit chat ---\n"
     ]
    },
    {
     "name": "stdin",
     "output_type": "stream",
     "text": [
      "Enter query:  Are there any hard vaults in parkour?\n"
     ]
    },
    {
     "name": "stdout",
     "output_type": "stream",
     "text": [
      "\n",
      "--- (q)uit to exit chat ---\n"
     ]
    },
    {
     "name": "stdin",
     "output_type": "stream",
     "text": [
      "Enter query:  Ok what are the names of vaults in parkour and their difficulty?\n"
     ]
    },
    {
     "name": "stdout",
     "output_type": "stream",
     "text": [
      "{'difficulty': 'Beginner', 'name': 'Speed'}\n",
      "{'difficulty': 'Beginner', 'name': 'Safety'}\n",
      "{'difficulty': 'Intermediate', 'name': 'Kong'}\n",
      "{'difficulty': 'Beginner', 'name': 'Lazy'}\n",
      "\n",
      "--- (q)uit to exit chat ---\n"
     ]
    },
    {
     "name": "stdin",
     "output_type": "stream",
     "text": [
      "Enter query:  q\n"
     ]
    }
   ],
   "source": [
    "my_chat.loop()"
   ]
  }
 ],
 "metadata": {
  "kernelspec": {
   "display_name": "Python 3 (ipykernel)",
   "language": "python",
   "name": "python3"
  },
  "language_info": {
   "codemirror_mode": {
    "name": "ipython",
    "version": 3
   },
   "file_extension": ".py",
   "mimetype": "text/x-python",
   "name": "python",
   "nbconvert_exporter": "python",
   "pygments_lexer": "ipython3",
   "version": "3.11.4"
  }
 },
 "nbformat": 4,
 "nbformat_minor": 5
}
